{
 "cells": [
  {
   "cell_type": "code",
   "execution_count": 82,
   "id": "b1e6094c",
   "metadata": {},
   "outputs": [],
   "source": [
    "import pandas as pd\n",
    "import numpy as np\n",
    "import torch\n",
    "import torch_geometric\n",
    "from torch import nn"
   ]
  },
  {
   "cell_type": "code",
   "execution_count": 60,
   "id": "dbb1d961",
   "metadata": {},
   "outputs": [
    {
     "name": "stdout",
     "output_type": "stream",
     "text": [
      "Pytorch: 2.1.1+cu118\n",
      "Pytorch geometric: 2.4.0\n",
      "Cuda available: True\n"
     ]
    }
   ],
   "source": [
    "# before running make sure all your versions are the same as defined here\n",
    "\n",
    "print('Pytorch:', torch.__version__)\n",
    "print('Pytorch geometric:', torch_geometric.__version__)\n",
    "print('Cuda available:', torch.cuda.is_available())"
   ]
  },
  {
   "cell_type": "code",
   "execution_count": 68,
   "id": "45b51b57",
   "metadata": {},
   "outputs": [],
   "source": [
    "# some important variables\n",
    "SEED = 42\n",
    "device = torch.device('cuda' if torch.cuda.is_available() else 'cpu')"
   ]
  },
  {
   "cell_type": "code",
   "execution_count": 69,
   "id": "1fb19492",
   "metadata": {},
   "outputs": [
    {
     "data": {
      "text/html": [
       "<div>\n",
       "<style scoped>\n",
       "    .dataframe tbody tr th:only-of-type {\n",
       "        vertical-align: middle;\n",
       "    }\n",
       "\n",
       "    .dataframe tbody tr th {\n",
       "        vertical-align: top;\n",
       "    }\n",
       "\n",
       "    .dataframe thead th {\n",
       "        text-align: right;\n",
       "    }\n",
       "</style>\n",
       "<table border=\"1\" class=\"dataframe\">\n",
       "  <thead>\n",
       "    <tr style=\"text-align: right;\">\n",
       "      <th></th>\n",
       "      <th>user_id</th>\n",
       "      <th>item_id</th>\n",
       "      <th>rating</th>\n",
       "      <th>timestamp</th>\n",
       "    </tr>\n",
       "  </thead>\n",
       "  <tbody>\n",
       "    <tr>\n",
       "      <th>0</th>\n",
       "      <td>196</td>\n",
       "      <td>242</td>\n",
       "      <td>3</td>\n",
       "      <td>881250949</td>\n",
       "    </tr>\n",
       "    <tr>\n",
       "      <th>1</th>\n",
       "      <td>186</td>\n",
       "      <td>302</td>\n",
       "      <td>3</td>\n",
       "      <td>891717742</td>\n",
       "    </tr>\n",
       "    <tr>\n",
       "      <th>2</th>\n",
       "      <td>22</td>\n",
       "      <td>377</td>\n",
       "      <td>1</td>\n",
       "      <td>878887116</td>\n",
       "    </tr>\n",
       "    <tr>\n",
       "      <th>3</th>\n",
       "      <td>244</td>\n",
       "      <td>51</td>\n",
       "      <td>2</td>\n",
       "      <td>880606923</td>\n",
       "    </tr>\n",
       "    <tr>\n",
       "      <th>4</th>\n",
       "      <td>166</td>\n",
       "      <td>346</td>\n",
       "      <td>1</td>\n",
       "      <td>886397596</td>\n",
       "    </tr>\n",
       "  </tbody>\n",
       "</table>\n",
       "</div>"
      ],
      "text/plain": [
       "   user_id  item_id  rating  timestamp\n",
       "0      196      242       3  881250949\n",
       "1      186      302       3  891717742\n",
       "2       22      377       1  878887116\n",
       "3      244       51       2  880606923\n",
       "4      166      346       1  886397596"
      ]
     },
     "execution_count": 69,
     "metadata": {},
     "output_type": "execute_result"
    }
   ],
   "source": [
    "# read dataset\n",
    "rating_df = pd.read_table('../data/raw/ml-100k/u.data', header=None, names=['user_id', 'item_id', 'rating', 'timestamp'])\n",
    "\n",
    "rating_df.head()"
   ]
  },
  {
   "cell_type": "code",
   "execution_count": 70,
   "id": "b49db42b",
   "metadata": {},
   "outputs": [],
   "source": [
    "# movies_df = pd.read_csv(\n",
    "#     '../data/raw/ml-100k/u.item', \n",
    "#     header=None, \n",
    "#     encoding='latin-1', \n",
    "#     sep='|', \n",
    "#     names=[\n",
    "#         'id', 'title', 'release_date', 'video_release_date', 'url', \n",
    "#         'unknown', 'action', 'adventure', 'animation', 'childrens', 'comedy', 'crime', 'documentary', 'drama', 'fantasy',\n",
    "#         'film_noir', 'Horror', 'Musical', 'mystery', 'romance', 'sci_fi', 'thriller', 'war', 'western'\n",
    "#     ],\n",
    "#     index_col=0\n",
    "# )\n",
    "\n",
    "# movies_df.head()\n",
    "\n",
    "\n",
    "# users_df = pd.read_csv(\n",
    "#     '../data/raw/ml-100k/u.user', \n",
    "#     header=None, \n",
    "#     sep='|', \n",
    "#     names=[\n",
    "#         'id', 'age', 'gender', 'occupation', 'zip_code'\n",
    "#     ],\n",
    "#     index_col=0\n",
    "# )\n",
    "\n",
    "# users_df.head()"
   ]
  },
  {
   "cell_type": "code",
   "execution_count": 71,
   "id": "5c5cac38",
   "metadata": {},
   "outputs": [],
   "source": [
    "from sklearn.model_selection import train_test_split\n",
    "from sklearn.preprocessing import LabelEncoder\n",
    "\n",
    "TEST_SPLIT = 0.2\n",
    "\n",
    "\n",
    "def split_dataset(df: pd.DataFrame, test_split: float = 0.2, seed: int = 0):\n",
    "    # select only positive rating (>= 3)\n",
    "    df = df[df['rating'] >= 3]\n",
    "\n",
    "    # split dataset (& with a set seed of course)\n",
    "    train, test = train_test_split(df.values, test_size=test_split, random_state=seed)\n",
    "    train_df = pd.DataFrame(train, columns=df.columns)\n",
    "    test_df = pd.DataFrame(test, columns=df.columns)\n",
    "    \n",
    "    # we splitted data, so ideally we need to relabel users \n",
    "    user_encoder = LabelEncoder()\n",
    "    item_encoder = LabelEncoder()\n",
    "    \n",
    "    # transform training dataset\n",
    "    train_df['user_id_idx'] = user_encoder.fit_transform(train_df['user_id'].values)\n",
    "    train_df['item_id_idx'] = item_encoder.fit_transform(train_df['item_id'].values)\n",
    "    \n",
    "    # remove all non-existing user-id's and item-id's from testing dataset\n",
    "    train_user_ids = train_df['user_id'].unique()\n",
    "    train_item_ids = train_df['item_id'].unique()\n",
    "    \n",
    "    test_df = test_df[(test_df['user_id'].isin(train_user_ids)) & (test_df['item_id'].isin(train_item_ids))]\n",
    "    \n",
    "    # transform test dataset\n",
    "    test_df['user_id_idx'] = user_encoder.transform(test_df['user_id'].values)\n",
    "    test_df['item_id_idx'] = item_encoder.transform(test_df['item_id'].values)\n",
    "    \n",
    "    return train_df, test_df\n",
    "\n",
    "\n",
    "train_df, test_df = split_dataset(rating_df, seed=SEED)"
   ]
  },
  {
   "cell_type": "code",
   "execution_count": 75,
   "id": "c9ff6735",
   "metadata": {},
   "outputs": [
    {
     "data": {
      "text/plain": [
       "(tensor([ 76, 219, 255, 314, 392, 431, 565, 581, 601, 607, 630, 693, 740, 765,\n",
       "         812, 916], device='cuda:0'),\n",
       " tensor([1188, 1273, 1311, 1125, 1877, 1123, 1566, 1200, 1199, 1454, 1249, 1119,\n",
       "         1120, 1077, 1818, 1220], device='cuda:0'),\n",
       " tensor([1973, 2299, 1027, 1987, 2472, 2330, 2482, 2295, 1759, 2005, 2209, 1233,\n",
       "         1313, 1039, 1921, 2146], device='cuda:0'))"
      ]
     },
     "execution_count": 75,
     "metadata": {},
     "output_type": "execute_result"
    }
   ],
   "source": [
    "def data_loader(data, batch_size, n_users, n_items):\n",
    "    def sample_neg(x):\n",
    "        while True:\n",
    "            neg_id = np.random.randint(0, n_items - 1)\n",
    "            if neg_id not in x:\n",
    "                return neg_id\n",
    "\n",
    "    interected_items_df = data.groupby('user_id_idx')['item_id_idx'].apply(list).reset_index()\n",
    "    users = np.random.randint(0, n_users, batch_size)\n",
    "    users.sort()\n",
    "    \n",
    "    users_df = pd.DataFrame(users, columns=['users'])  # may add .tolist()\n",
    "\n",
    "    interected_items_df = pd.merge(interected_items_df, users_df, how = 'right', left_on = 'user_id_idx', right_on = 'users')\n",
    "    pos_items = interected_items_df['item_id_idx'].apply(lambda x : np.random.choice(x)).values\n",
    "    neg_items = interected_items_df['item_id_idx'].apply(lambda x: sample_neg(x)).values\n",
    "\n",
    "    return (\n",
    "        torch.LongTensor(list(users)).to(device), \n",
    "        torch.LongTensor(list(pos_items)).to(device) + n_users, \n",
    "        torch.LongTensor(list(neg_items)).to(device) + n_users\n",
    "    )\n",
    "\n",
    "\n",
    "n_users = train_df['user_id_idx'].nunique()\n",
    "n_items = train_df['item_id_idx'].nunique()\n",
    "data_loader(train_df, 16, n_users, n_items)"
   ]
  },
  {
   "cell_type": "code",
   "execution_count": 80,
   "id": "c7d91efa",
   "metadata": {},
   "outputs": [
    {
     "data": {
      "text/plain": [
       "tensor([[ 108,  435,  863,  ..., 1242, 1380, 1542],\n",
       "        [1099, 1490, 1499,  ...,  811,  187,  298]], device='cuda:0')"
      ]
     },
     "execution_count": 80,
     "metadata": {},
     "output_type": "execute_result"
    }
   ],
   "source": [
    "def make_edge_index(df: pd.DataFrame):\n",
    "    u_t = torch.LongTensor(df.user_id_idx)\n",
    "    i_t = torch.LongTensor(df.item_id_idx) + n_users\n",
    "\n",
    "    return torch.stack((\n",
    "      torch.cat([u_t, i_t]),\n",
    "      torch.cat([i_t, u_t])\n",
    "    )).to(device)\n",
    "\n",
    "\n",
    "train_edge_index = make_edge_index(train_df)\n",
    "train_edge_index"
   ]
  },
  {
   "cell_type": "markdown",
   "id": "d7f77a63",
   "metadata": {},
   "source": [
    "# Because I am just curious, models"
   ]
  },
  {
   "cell_type": "code",
   "execution_count": 91,
   "id": "0cfa14d4",
   "metadata": {},
   "outputs": [],
   "source": [
    "from torch_geometric.nn.conv import MessagePassing\n",
    "\n",
    "\n",
    "class NGCFConv(MessagePassing):\n",
    "    def __init__(self, latent_dim, dropout, bias=True, **kwargs):  \n",
    "        super(NGCFConv, self).__init__(aggr='add', **kwargs)\n",
    "\n",
    "        self.dropout = dropout\n",
    "\n",
    "        self.lin_1 = nn.Linear(latent_dim, latent_dim, bias=bias)\n",
    "        self.lin_2 = nn.Linear(latent_dim, latent_dim, bias=bias)\n",
    "\n",
    "        self.init_parameters()\n",
    "\n",
    "\n",
    "    def init_parameters(self):\n",
    "        nn.init.xavier_uniform_(self.lin_1.weight)\n",
    "        nn.init.xavier_uniform_(self.lin_2.weight)\n",
    "\n",
    "\n",
    "    def forward(self, x, edge_index):\n",
    "        # Compute normalization\n",
    "        from_, to_ = edge_index\n",
    "        deg = degree(to_, x.size(0), dtype=x.dtype)\n",
    "        deg_inv_sqrt = deg.pow(-0.5)\n",
    "        deg_inv_sqrt[deg_inv_sqrt == float('inf')] = 0\n",
    "        norm = deg_inv_sqrt[from_] * deg_inv_sqrt[to_]\n",
    "\n",
    "        # Start propagating messages\n",
    "        out = self.propagate(edge_index, x=(x, x), norm=norm)\n",
    "\n",
    "        # Perform update after aggregation\n",
    "        out += self.lin_1(x)\n",
    "        out = F.dropout(out, self.dropout, self.training)\n",
    "        return F.leaky_relu(out)\n",
    "\n",
    "\n",
    "    def message(self, x_j, x_i, norm):\n",
    "        return norm.view(-1, 1) * (self.lin_1(x_j) + self.lin_2(x_j * x_i))"
   ]
  },
  {
   "cell_type": "code",
   "execution_count": 102,
   "id": "43a131e8",
   "metadata": {},
   "outputs": [],
   "source": [
    "class RecSysGNN(nn.Module):\n",
    "    def __init__(\n",
    "        self,\n",
    "        latent_dim, \n",
    "        num_layers,\n",
    "        num_users,\n",
    "        num_items,\n",
    "        dropout=0.1\n",
    "    ):\n",
    "        super(RecSysGNN, self).__init__()\n",
    "\n",
    "        self.embedding = nn.Embedding(num_users + num_items, latent_dim)\n",
    "        self.convs = nn.ModuleList(NGCFConv(latent_dim, dropout=dropout) for _ in range(num_layers))\n",
    "        self.init_parameters()\n",
    "\n",
    "\n",
    "    def init_parameters(self):\n",
    "        nn.init.xavier_uniform_(self.embedding.weight, gain=1)\n",
    "    \n",
    "\n",
    "    def forward(self, edge_index):\n",
    "        emb0 = self.embedding.weight\n",
    "        embs = [emb0]\n",
    "\n",
    "        emb = emb0\n",
    "        for conv in self.convs:\n",
    "            emb = conv(x=emb, edge_index=edge_index)\n",
    "            embs.append(emb)\n",
    "\n",
    "        out = torch.cat(embs, dim=-1) \n",
    "    \n",
    "        return emb0, out\n",
    "\n",
    "\n",
    "    def encode_minibatch(self, users, pos_items, neg_items, edge_index):\n",
    "        emb0, out = self(edge_index)\n",
    "        return (\n",
    "            out[users], \n",
    "            out[pos_items], \n",
    "            out[neg_items], \n",
    "            emb0[users],\n",
    "            emb0[pos_items],\n",
    "            emb0[neg_items]\n",
    "        )"
   ]
  },
  {
   "cell_type": "code",
   "execution_count": 103,
   "id": "1f6391de",
   "metadata": {},
   "outputs": [],
   "source": [
    "def compute_bpr_loss(users, users_emb, pos_emb, neg_emb, user_emb0,  pos_emb0, neg_emb0):\n",
    "    # compute loss from initial embeddings, used for regulization\n",
    "    reg_loss = 0.5 * (user_emb0.norm().pow(2) + pos_emb0.norm().pow(2) + neg_emb0.norm().pow(2)) / float(len(users))\n",
    "\n",
    "    # compute BPR loss from user, positive item, and negative item embeddings\n",
    "    pos_scores = torch.mul(users_emb, pos_emb).sum(dim=1)\n",
    "    neg_scores = torch.mul(users_emb, neg_emb).sum(dim=1)\n",
    "\n",
    "    bpr_loss = torch.mean(F.softplus(neg_scores - pos_scores))\n",
    "\n",
    "    return bpr_loss, reg_loss"
   ]
  },
  {
   "cell_type": "code",
   "execution_count": 104,
   "id": "0e1dc410",
   "metadata": {},
   "outputs": [],
   "source": [
    "def get_metrics(user_Embed_wts, item_Embed_wts, n_users, n_items, train_data, test_data, K):\n",
    "    test_user_ids = torch.LongTensor(test_data['user_id_idx'].unique())\n",
    "    # compute the score of all user-item pairs\n",
    "    relevance_score = torch.matmul(user_Embed_wts, torch.transpose(item_Embed_wts,0, 1))\n",
    "\n",
    "    # create dense tensor of all user-item interactions\n",
    "    i = torch.stack((\n",
    "        torch.LongTensor(train_df['user_id_idx'].values),\n",
    "        torch.LongTensor(train_df['item_id_idx'].values)\n",
    "    ))\n",
    "    v = torch.ones((len(train_df)), dtype=torch.float64)\n",
    "    interactions_t = torch.sparse.FloatTensor(i, v, (n_users, n_items)).to_dense().to(device)\n",
    "\n",
    "    # mask out training user-item interactions from metric computation\n",
    "    relevance_score = torch.mul(relevance_score, (1 - interactions_t))\n",
    "\n",
    "    # compute top scoring items for each user\n",
    "    topk_relevance_indices = torch.topk(relevance_score, K).indices\n",
    "    topk_relevance_indices_df = pd.DataFrame(topk_relevance_indices.cpu().numpy(),columns =['top_indx_'+str(x+1) for x in range(K)])\n",
    "    topk_relevance_indices_df['user_ID'] = topk_relevance_indices_df.index\n",
    "    topk_relevance_indices_df['top_rlvnt_itm'] = topk_relevance_indices_df[['top_indx_'+str(x+1) for x in range(K)]].values.tolist()\n",
    "    topk_relevance_indices_df = topk_relevance_indices_df[['user_ID','top_rlvnt_itm']]\n",
    "\n",
    "    # measure overlap between recommended (top-scoring) and held-out user-item \n",
    "    # interactions\n",
    "    test_interacted_items = test_data.groupby('user_id_idx')['item_id_idx'].apply(list).reset_index()\n",
    "    metrics_df = pd.merge(test_interacted_items,topk_relevance_indices_df, how= 'left', left_on = 'user_id_idx',right_on = ['user_ID'])\n",
    "    metrics_df['intrsctn_itm'] = [list(set(a).intersection(b)) for a, b in zip(metrics_df.item_id_idx, metrics_df.top_rlvnt_itm)]\n",
    "\n",
    "    metrics_df['recall'] = metrics_df.apply(lambda x : len(x['intrsctn_itm'])/len(x['item_id_idx']), axis = 1) \n",
    "    metrics_df['precision'] = metrics_df.apply(lambda x : len(x['intrsctn_itm'])/K, axis = 1)\n",
    "\n",
    "    return metrics_df['recall'].mean(), metrics_df['precision'].mean()"
   ]
  },
  {
   "cell_type": "code",
   "execution_count": 136,
   "id": "ecb78fe2",
   "metadata": {},
   "outputs": [],
   "source": [
    "latent_dim = 128\n",
    "n_layers = 4\n",
    "\n",
    "EPOCHS = 50\n",
    "BATCH_SIZE = 1024\n",
    "DECAY = 0.0001\n",
    "LR = 3e-4\n",
    "K = 20"
   ]
  },
  {
   "cell_type": "code",
   "execution_count": 137,
   "id": "47082505",
   "metadata": {},
   "outputs": [],
   "source": [
    "def train_and_eval(model, optimizer, train_df):\n",
    "    loss_list_epoch = []\n",
    "    bpr_loss_list_epoch = []\n",
    "    reg_loss_list_epoch = []\n",
    "\n",
    "    recall_list = []\n",
    "    precision_list = []\n",
    "\n",
    "    for epoch in tqdm(range(EPOCHS)):\n",
    "        n_batch = int(len(train)/BATCH_SIZE)\n",
    "    \n",
    "        final_loss_list = []\n",
    "        bpr_loss_list = []\n",
    "        reg_loss_list = []\n",
    "    \n",
    "        model.train()\n",
    "        for batch_idx in range(n_batch):\n",
    "            optimizer.zero_grad()\n",
    "\n",
    "            users, pos_items, neg_items = data_loader(train_df, BATCH_SIZE, n_users, n_items)\n",
    "            users_emb, pos_emb, neg_emb, userEmb0,  posEmb0, negEmb0 = model.encode_minibatch(users, pos_items, neg_items, train_edge_index)\n",
    "\n",
    "            bpr_loss, reg_loss = compute_bpr_loss(\n",
    "            users, users_emb, pos_emb, neg_emb, userEmb0,  posEmb0, negEmb0\n",
    "            )\n",
    "            reg_loss = DECAY * reg_loss\n",
    "            final_loss = bpr_loss + reg_loss\n",
    "\n",
    "            final_loss.backward()\n",
    "            optimizer.step()\n",
    "\n",
    "            final_loss_list.append(final_loss.item())\n",
    "            bpr_loss_list.append(bpr_loss.item())\n",
    "            reg_loss_list.append(reg_loss.item())\n",
    "\n",
    "        model.eval()\n",
    "        with torch.no_grad():\n",
    "            _, out = model(train_edge_index)\n",
    "            final_user_Embed, final_item_Embed = torch.split(out, (n_users, n_items))\n",
    "            test_topK_recall,  test_topK_precision = get_metrics(final_user_Embed, final_item_Embed, n_users, n_items, train_df, test_df, K)\n",
    "\n",
    "        loss_list_epoch.append(round(np.mean(final_loss_list),4))\n",
    "        bpr_loss_list_epoch.append(round(np.mean(bpr_loss_list),4))\n",
    "        reg_loss_list_epoch.append(round(np.mean(reg_loss_list),4))\n",
    "\n",
    "        recall_list.append(round(test_topK_recall,4))\n",
    "        precision_list.append(round(test_topK_precision,4))\n",
    "\n",
    "    return (\n",
    "        loss_list_epoch, \n",
    "        bpr_loss_list_epoch, \n",
    "        reg_loss_list_epoch, \n",
    "        recall_list, \n",
    "        precision_list\n",
    "    )"
   ]
  },
  {
   "cell_type": "code",
   "execution_count": 138,
   "id": "beb6ccea",
   "metadata": {},
   "outputs": [
    {
     "name": "stdout",
     "output_type": "stream",
     "text": [
      "Size of Learnable Embedding :  [torch.Size([2490, 128]), torch.Size([128, 128]), torch.Size([128]), torch.Size([128, 128]), torch.Size([128]), torch.Size([128, 128]), torch.Size([128]), torch.Size([128, 128]), torch.Size([128]), torch.Size([128, 128]), torch.Size([128]), torch.Size([128, 128]), torch.Size([128]), torch.Size([128, 128]), torch.Size([128]), torch.Size([128, 128]), torch.Size([128])]\n"
     ]
    }
   ],
   "source": [
    "lightgcn = RecSysGNN(\n",
    "  latent_dim=latent_dim, \n",
    "  num_layers=n_layers,\n",
    "  num_users=n_users,\n",
    "  num_items=n_items\n",
    ")\n",
    "lightgcn.to(device)\n",
    "\n",
    "optimizer = torch.optim.Adam(lightgcn.parameters(), lr=LR)\n",
    "print(\"Size of Learnable Embedding : \", [x.shape for x in list(lightgcn.parameters())])"
   ]
  },
  {
   "cell_type": "code",
   "execution_count": 139,
   "id": "6d384c5c",
   "metadata": {},
   "outputs": [
    {
     "name": "stderr",
     "output_type": "stream",
     "text": [
      "100%|███████████████████████████████████████████████████████████████████████████████████████████████████████████████████████████████| 50/50 [05:32<00:00,  6.65s/it]\n"
     ]
    }
   ],
   "source": [
    "from tqdm import tqdm\n",
    "from torch_geometric.utils import degree\n",
    "import torch.nn.functional as F\n",
    "light_loss, light_bpr, light_reg, light_recall, light_precision = train_and_eval(lightgcn, optimizer, train_df)"
   ]
  },
  {
   "cell_type": "code",
   "execution_count": 140,
   "id": "6058826b",
   "metadata": {},
   "outputs": [
    {
     "data": {
      "text/plain": [
       "<matplotlib.legend.Legend at 0x211100e4d60>"
      ]
     },
     "execution_count": 140,
     "metadata": {},
     "output_type": "execute_result"
    },
    {
     "data": {
      "image/png": "[encoded data removed]",
      "text/plain": [
       "<Figure size 640x480 with 1 Axes>"
      ]
     },
     "metadata": {},
     "output_type": "display_data"
    }
   ],
   "source": [
    "import matplotlib.pyplot as plt\n",
    "\n",
    "epoch_list = [(i+1) for i in range(EPOCHS)]\n",
    "\n",
    "plt.plot(epoch_list, light_loss, label='Total Training Loss')\n",
    "plt.plot(epoch_list, light_bpr, label='BPR Training Loss')\n",
    "plt.plot(epoch_list, light_reg, label='Reg Training Loss')\n",
    "\n",
    "plt.xlabel('Epoch')\n",
    "plt.ylabel('Loss')\n",
    "plt.legend()"
   ]
  },
  {
   "cell_type": "code",
   "execution_count": 141,
   "id": "564fd87d",
   "metadata": {},
   "outputs": [
    {
     "data": {
      "text/plain": [
       "<matplotlib.legend.Legend at 0x2111aa6ee20>"
      ]
     },
     "execution_count": 141,
     "metadata": {},
     "output_type": "execute_result"
    },
    {
     "data": {
      "image/png": "[encoded data removed]",
      "text/plain": [
       "<Figure size 640x480 with 1 Axes>"
      ]
     },
     "metadata": {},
     "output_type": "display_data"
    }
   ],
   "source": [
    "plt.plot(epoch_list, light_recall, label='Recall')\n",
    "plt.plot(epoch_list, light_precision, label='Precision')\n",
    "plt.xlabel('Epoch')\n",
    "plt.ylabel('Metrics')\n",
    "plt.legend()"
   ]
  },
  {
   "cell_type": "code",
   "execution_count": 144,
   "id": "30c747df",
   "metadata": {},
   "outputs": [
    {
     "data": {
      "text/plain": [
       "(0.3394, 0.2274)"
      ]
     },
     "execution_count": 144,
     "metadata": {},
     "output_type": "execute_result"
    }
   ],
   "source": [
    "max(light_recall), max(light_precision)"
   ]
  },
  {
   "cell_type": "code",
   "execution_count": null,
   "id": "f55de6ec",
   "metadata": {},
   "outputs": [],
   "source": []
  },
  {
   "cell_type": "code",
   "execution_count": null,
   "id": "f17327d5",
   "metadata": {},
   "outputs": [],
   "source": []
  },
  {
   "cell_type": "code",
   "execution_count": null,
   "id": "bbfe533d",
   "metadata": {},
   "outputs": [],
   "source": []
  }
 ],
 "metadata": {
  "kernelspec": {
   "display_name": "Python 3 (ipykernel)",
   "language": "python",
   "name": "python3"
  },
  "language_info": {
   "codemirror_mode": {
    "name": "ipython",
    "version": 3
   },
   "file_extension": ".py",
   "mimetype": "text/x-python",
   "name": "python",
   "nbconvert_exporter": "python",
   "pygments_lexer": "ipython3",
   "version": "3.9.6"
  }
 },
 "nbformat": 4,
 "nbformat_minor": 5
}
